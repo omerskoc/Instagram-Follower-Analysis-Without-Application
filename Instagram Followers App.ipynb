{
 "cells": [
  {
   "cell_type": "markdown",
   "id": "c094ca00",
   "metadata": {},
   "source": [
    "# Analyz Your Instagram Followers Without an App"
   ]
  },
  {
   "cell_type": "markdown",
   "id": "d62b100a",
   "metadata": {},
   "source": [
    "## Introduction"
   ]
  },
  {
   "cell_type": "markdown",
   "id": "e39abf7e",
   "metadata": {},
   "source": [
    "One of the most common curiosities among Instagram users is whether the people they follow are also following them back. There are numerous apps available on the App Store and Google Play Store designed to answer this question. However, the reliability of these apps often leaves users with many doubts and concerns. Considering this, I have conceived a solution that utilizes basic coding and a Google extension, allowing for a reliable and simple approach to uncover this information. In this article, I will share with you how to achieve this.\n",
    "\n",
    "While integrating Instagram's API could potentially make this process faster and provide real-time data, I will not delve into this aspect in our discussion. This approach aims to offer a secure and straightforward method, steering clear of the complexities and potential trust issues associated with third-party apps.\n",
    "\n",
    "Two essential components are needed: \n",
    "- The IG Follower Export Tool extension developed for Chrome\n",
    "- A Python editor (I personally use and recommend Jupyter)"
   ]
  },
  {
   "cell_type": "markdown",
   "id": "7bb0b42c",
   "metadata": {},
   "source": [
    "## Step 1: Download Followers and Following Data with Extension."
   ]
  },
  {
   "cell_type": "markdown",
   "id": "40b004a4",
   "metadata": {},
   "source": [
    "For the first step, the extension installed is used to extract the account's followers and following data.\n",
    "\n",
    "NOTE: For this to work, one must be logged into an Instagram account from another tab (logging into any account is sufficient; there is no need to log into the account from which the data is being retrieved).\n",
    "\n",
    "After entering the username or link in the \"IG User or URL\" section, you can select a delay from the dropdown menu and click on \"Start new parsing\". The reason for adding a delay is because Instagram prevents scraping. You should set a larger timeout if you encounter issues. The timeout is set in seconds. Then, in the bottom right corner, you can monitor the total number of people and the status in the \"Progress\" section. When the status changes to 'Finished', you can download the file by clicking the 'save to excel' button."
   ]
  },
  {
   "cell_type": "markdown",
   "id": "974cbae0",
   "metadata": {},
   "source": [
    "![Image of Yaktocat](https://miro.medium.com/v2/resize:fit:720/format:webp/1*xtxMp0dWJ53AOuAWlkSWLA.png)"
   ]
  },
  {
   "cell_type": "markdown",
   "id": "df304f32",
   "metadata": {},
   "source": [
    "Similarly, by selecting the \"Extracting type\" value as \"Following\" instead of \"Followers\", you can initiate another parsing process. Once this operation is completed, you can download the data into an Excel file by clicking on 'save to excel'.\n",
    "\n",
    "The headers of the Excel files we download appear as follows: id - userName - fullName - profileUrl - avatarUrl - isVerified - followedByYou. The important columns for us are userName, FullName, and profileURL. We will select these columns in Python to obtain a more meaningful dataframe.\n",
    "\n",
    "As a result, with the help of a simple extension, we now possess the followers and following information of the Instagram account we wish to check, in the form of an Excel file."
   ]
  },
  {
   "cell_type": "markdown",
   "id": "2b40aefa",
   "metadata": {},
   "source": [
    "## Step 2: Compare Two Data Files with Python"
   ]
  },
  {
   "cell_type": "markdown",
   "id": "4b4ef43f",
   "metadata": {},
   "source": [
    "First, we import our followers and following Excel files into the Python environment using read_excel. Next, we filter out the followers and those we are following based on the 'userName' column. By taking the difference between these two groups, we identify users who don't follow us back.\n",
    "\n",
    "Then, we select the 'userName', 'fullName', 'profileUrl' columns from this group to create a DataFrame that contains the usernames, full names, and direct clickable links to the profiles of the accounts not following back. This allows us to see the users who are not following us back."
   ]
  },
  {
   "cell_type": "markdown",
   "id": "abbc9c5f",
   "metadata": {},
   "source": [
    "### Please specify the path to your following and followers Excel files in the # Load the Excel files section."
   ]
  },
  {
   "cell_type": "code",
   "execution_count": null,
   "id": "0a07c048",
   "metadata": {},
   "outputs": [],
   "source": [
    "import pandas as pd\n",
    "from IPython.display import HTML\n",
    "\n",
    "# Load the Excel files\n",
    "followers_df = pd.read_excel('followers.xlsx')\n",
    "following_df = pd.read_excel('following.xlsx')\n",
    "\n",
    "# Extract the lists of followers and following based on the 'userName' column\n",
    "followers_usernames = set(followers_df['userName'])\n",
    "following_usernames = set(following_df['userName'])\n",
    "\n",
    "# Find users that you are following but who don't follow you back\n",
    "not_following_back = following_usernames - followers_usernames\n",
    "\n",
    "# Create a DataFrame containing information about users not following back\n",
    "not_following_back_df = following_df[following_df['userName'].isin(not_following_back)]\n",
    "\n",
    "# Select only the desired columns\n",
    "result_df = not_following_back_df[['userName', 'fullName', 'profileUrl']]\n",
    "\n",
    "# Convert URLs to clickable HTML links\n",
    "def make_clickable(val):\n",
    "    return f'<a href=\"{val}\" target=\"_blank\">{val}</a>'\n",
    "\n",
    "# Work with a copy to avoid warning\n",
    "result_copy_df = result_df.copy()\n",
    "result_copy_df['profileUrl'] = result_copy_df['profileUrl'].apply(make_clickable)\n",
    "\n",
    "# Display as HTML\n",
    "HTML(result_copy_df.to_html(escape=False))"
   ]
  }
 ],
 "metadata": {
  "kernelspec": {
   "display_name": "Python 3 (ipykernel)",
   "language": "python",
   "name": "python3"
  },
  "language_info": {
   "codemirror_mode": {
    "name": "ipython",
    "version": 3
   },
   "file_extension": ".py",
   "mimetype": "text/x-python",
   "name": "python",
   "nbconvert_exporter": "python",
   "pygments_lexer": "ipython3",
   "version": "3.9.13"
  }
 },
 "nbformat": 4,
 "nbformat_minor": 5
}
